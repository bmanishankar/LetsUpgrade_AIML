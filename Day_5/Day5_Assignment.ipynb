{
 "cells": [
  {
   "cell_type": "markdown",
   "metadata": {},
   "source": [
    "# Question 1\n",
    "- Write a Python program to find the first 20 non-even prime natural numbers."
   ]
  },
  {
   "cell_type": "code",
   "execution_count": 1,
   "metadata": {},
   "outputs": [
    {
     "name": "stdout",
     "output_type": "stream",
     "text": [
      "Enter how many non-even prime numbers to be found:20\n",
      "[3, 4, 5, 7, 11, 13, 17, 19, 23, 29, 31, 37, 41, 43, 47, 53, 59, 61, 67, 71, 73]\n"
     ]
    }
   ],
   "source": [
    "# We know that 2 is the only even prime number, so here i continue from 3 to find prime numbers \n",
    "\n",
    "prime=[]\n",
    "i=3\n",
    "n=int(input(\"Enter how many non-even prime numbers to be found:\"))\n",
    "while len(prime) <=20 :\n",
    "    flag=True\n",
    "    for j in range(2,int(i/2)) :\n",
    "        if i%j == 0 :\n",
    "            flag=False\n",
    "            break\n",
    "    if flag==True:\n",
    "        prime.append(i)\n",
    "    i=i+1\n",
    "print(prime)"
   ]
  },
  {
   "cell_type": "markdown",
   "metadata": {},
   "source": [
    "# Question 2\n",
    "- Write a Python program to implement 15 functions of string"
   ]
  },
  {
   "cell_type": "code",
   "execution_count": 2,
   "metadata": {},
   "outputs": [
    {
     "name": "stdout",
     "output_type": "stream",
     "text": [
      "Lower: manisankar bellapukonda\n",
      "Checking whethar string is in Lowercase: False\n",
      "Upper: MANISANKAR BELLAPUKONDA\n",
      "Checking whethar string is in Uppercase: False\n",
      "Capitalizing: Manisankar bellapukonda\n",
      "Title: Manisankar Bellapukonda\n",
      "Is Title ? False\n",
      "First occurance of i: 3\n",
      "ManiSankar bellapukonda\n",
      "Count of a's: 5\n",
      "Checking is alpha: False\n",
      "Checking is numeric: False\n",
      "Checking is alnum: False\n",
      "Checking whethar string is space: False\n",
      "Is Printable ? True\n"
     ]
    }
   ],
   "source": [
    "str=\"ManiSankar Bellapukonda\"\n",
    "print(\"Lower:\",str.lower())\n",
    "print(\"Checking whethar string is in Lowercase:\",str.islower())\n",
    "print(\"Upper:\",str.upper())\n",
    "print(\"Checking whethar string is in Uppercase:\",str.isupper())\n",
    "print(\"Capitalizing:\",str.capitalize())\n",
    "print(\"Title:\",str.title())\n",
    "print(\"Is Title ?\",str.istitle())\n",
    "print(\"First occurance of i:\",str.find(\"i\"))\n",
    "print(str.replace(\"B\",\"b\"))\n",
    "print(\"Count of a's:\",str.count(\"a\"))\n",
    "print(\"Checking is alpha:\",str.isalpha())\n",
    "print(\"Checking is numeric:\",str.isnumeric())\n",
    "print(\"Checking is alnum:\",str.isalnum())\n",
    "print(\"Checking whethar string is space:\",str.isspace())\n",
    "print(\"Is Printable ?\",str.isprintable())"
   ]
  },
  {
   "cell_type": "markdown",
   "metadata": {},
   "source": [
    "# Question 3\n",
    "- Write a Python program to check if the given string is a Palindrome or Anagram or None of them.\n",
    "Display the message accordingly to the user"
   ]
  },
  {
   "cell_type": "code",
   "execution_count": 3,
   "metadata": {},
   "outputs": [
    {
     "name": "stdout",
     "output_type": "stream",
     "text": [
      "Enter string: Madam\n",
      "Madam is not a Plaindrome\n"
     ]
    }
   ],
   "source": [
    "str=input(\"Enter string: \")\n",
    "# Plaindrome\n",
    "\n",
    "if str==str[::-1]:\n",
    "    print(str,\"is a Palindrome\")\n",
    "# If palindrome I'm checking for Anagram\n",
    "    str1=list(str)\n",
    "    st=input(\"Enter second string to check for anagram:\")\n",
    "    str2=list(st)\n",
    "    str1.sort()\n",
    "    str2.sort()\n",
    "    if str1==str2 :\n",
    "        print(st,\"is Anagram w.r.t\",st)\n",
    "    else :\n",
    "        print(st,\"is not an Anagram w.r.t\",st)\n",
    "else :\n",
    "    print(str,\"is not a Plaindrome\")\n",
    "    \n"
   ]
  },
  {
   "cell_type": "markdown",
   "metadata": {},
   "source": [
    "# Question 4\n",
    "- Write a Python's user defined function that removes all the additional characters from the string\n",
    "and converts it finally to lower case using built-in lower(). eg: If the string is \"Dr. Darshan Ingle\n",
    "@AI-ML Trainer\", then the output be \"drdarshaningleaimltrainer\".\n"
   ]
  },
  {
   "cell_type": "code",
   "execution_count": 4,
   "metadata": {},
   "outputs": [
    {
     "name": "stdout",
     "output_type": "stream",
     "text": [
      "Enter string including special charactersM@n! $h@^K@r\n",
      "String after formatting: MnhKr\n"
     ]
    }
   ],
   "source": [
    "str=input(\"Enter string including special characters\")\n",
    "print_str=\"\"\n",
    "for i in str :\n",
    "    if i.isalnum():\n",
    "        print_str+=i\n",
    "print(\"String after formatting:\",print_str)"
   ]
  },
  {
   "cell_type": "code",
   "execution_count": null,
   "metadata": {},
   "outputs": [],
   "source": []
  }
 ],
 "metadata": {
  "kernelspec": {
   "display_name": "Python 3",
   "language": "python",
   "name": "python3"
  },
  "language_info": {
   "codemirror_mode": {
    "name": "ipython",
    "version": 3
   },
   "file_extension": ".py",
   "mimetype": "text/x-python",
   "name": "python",
   "nbconvert_exporter": "python",
   "pygments_lexer": "ipython3",
   "version": "3.7.4"
  }
 },
 "nbformat": 4,
 "nbformat_minor": 2
}
