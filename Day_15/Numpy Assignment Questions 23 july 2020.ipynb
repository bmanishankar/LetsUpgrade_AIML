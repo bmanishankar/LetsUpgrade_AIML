{
 "cells": [
  {
   "cell_type": "markdown",
   "metadata": {},
   "source": [
    "# 1. Create a 3x3x3 array with random values "
   ]
  },
  {
   "cell_type": "code",
   "execution_count": 1,
   "metadata": {},
   "outputs": [
    {
     "name": "stdout",
     "output_type": "stream",
     "text": [
      "[[[0.99924475 0.98592529 0.91132775]\n",
      "  [0.64835586 0.89122968 0.0112779 ]\n",
      "  [0.14953841 0.38988035 0.97026564]]\n",
      "\n",
      " [[0.76537127 0.19250931 0.60727861]\n",
      "  [0.11884854 0.65474569 0.00809352]\n",
      "  [0.66331221 0.9879219  0.8801573 ]]\n",
      "\n",
      " [[0.15759025 0.19837761 0.41000473]\n",
      "  [0.43039938 0.93400618 0.56179332]\n",
      "  [0.19113815 0.8082026  0.21041314]]]\n"
     ]
    }
   ],
   "source": [
    "import numpy as np\n",
    "a = np.random.random((3,3,3))\n",
    "print(a)"
   ]
  },
  {
   "cell_type": "markdown",
   "metadata": {},
   "source": [
    "# 2.Create a 5x5 matrix with values 1,2,3,4 just below the diagonal"
   ]
  },
  {
   "cell_type": "code",
   "execution_count": 2,
   "metadata": {},
   "outputs": [
    {
     "name": "stdout",
     "output_type": "stream",
     "text": [
      "[[0 0 0 0 0]\n",
      " [1 0 0 0 0]\n",
      " [0 2 0 0 0]\n",
      " [0 0 3 0 0]\n",
      " [0 0 0 4 0]]\n"
     ]
    }
   ],
   "source": [
    "import numpy as np\n",
    "arr1 = np.diag((0,1,2,3,4,0))\n",
    "arr3 = arr1[:5,1:]\n",
    "print(arr3)"
   ]
  },
  {
   "cell_type": "markdown",
   "metadata": {},
   "source": [
    "# 3.Create a 8x8 matrix and fill it with a checkerboard pattern"
   ]
  },
  {
   "cell_type": "code",
   "execution_count": 3,
   "metadata": {},
   "outputs": [
    {
     "name": "stdout",
     "output_type": "stream",
     "text": [
      "[[0 1 0 1 0 1 0 1]\n",
      " [1 0 1 0 1 0 1 0]\n",
      " [0 1 0 1 0 1 0 1]\n",
      " [1 0 1 0 1 0 1 0]\n",
      " [0 1 0 1 0 1 0 1]\n",
      " [1 0 1 0 1 0 1 0]\n",
      " [0 1 0 1 0 1 0 1]\n",
      " [1 0 1 0 1 0 1 0]]\n"
     ]
    }
   ],
   "source": [
    "import numpy as np\n",
    "arr = np.zeros((8,8),dtype = int)\n",
    "\n",
    "arr[1::2,::2] = 1\n",
    "arr[::2,1::2] = 1\n",
    "print(arr)"
   ]
  },
  {
   "cell_type": "markdown",
   "metadata": {},
   "source": [
    "# 4. Normalize a 5x5 random matrix"
   ]
  },
  {
   "cell_type": "code",
   "execution_count": 4,
   "metadata": {},
   "outputs": [
    {
     "name": "stdout",
     "output_type": "stream",
     "text": [
      "Before Normalization:\n",
      " [[0.899885   0.90255106 0.54310665 0.60100583 0.83371918]\n",
      " [0.69893173 0.26875185 0.37509365 0.90102592 0.78186794]\n",
      " [0.90578147 0.42263101 0.47092895 0.8999844  0.36276878]\n",
      " [0.7341267  0.08438553 0.38978823 0.48017701 0.08174875]\n",
      " [0.6595901  0.03329737 0.66799196 0.21629307 0.63435636]]\n",
      "\n",
      "After Normalization:\n",
      " [[0.99324175 0.99629746 0.58431928 0.65068058 0.91740561]\n",
      " [0.76291862 0.26986679 0.39175073 0.99454941 0.85797618]\n",
      " [1.         0.4462358  0.50159262 0.99335568 0.37762454]\n",
      " [0.80325743 0.05855483 0.40859295 0.5121923  0.05553267]\n",
      " [0.7178271  0.         0.72745691 0.20974101 0.68890538]]\n"
     ]
    }
   ],
   "source": [
    "import numpy as np\n",
    "\n",
    "arr = np.random.random((5,5))\n",
    "print(\"Before Normalization:\\n\",arr)\n",
    "\n",
    "arr_max,arr_min = arr.max(),arr.min()\n",
    "\n",
    "arr = (arr - arr_min)/(arr_max - arr_min)\n",
    "print(\"\\nAfter Normalization:\\n\",arr)"
   ]
  },
  {
   "cell_type": "markdown",
   "metadata": {},
   "source": [
    "# 5.  How to find common values between two arrays?"
   ]
  },
  {
   "cell_type": "code",
   "execution_count": 5,
   "metadata": {},
   "outputs": [
    {
     "name": "stdout",
     "output_type": "stream",
     "text": [
      "[[1 2 3 4 5]\n",
      " [6 7 8 9 0]]\n",
      "\n",
      "[[ 1  3  5  7  9]\n",
      " [11 13 15 17 19]]\n",
      "\n",
      "Common values of above two arrays:\n",
      " [1 3 5 7 9]\n"
     ]
    }
   ],
   "source": [
    "import numpy as np\n",
    "\n",
    "arr1 = np.array([1,2,3,4,5,6,7,8,9,0])\n",
    "arr2 = np.array([1,3,5,7,9,11,13,15,17,19])\n",
    "\n",
    "arr1.shape = (2,5)\n",
    "arr2.shape = (2,5)\n",
    "print(arr1,end=\"\\n\\n\")\n",
    "print(arr2,end=\"\\n\\n\")\n",
    "\n",
    "print(\"Common values of above two arrays:\\n\",np.intersect1d(arr1,arr2))"
   ]
  },
  {
   "cell_type": "markdown",
   "metadata": {},
   "source": [
    "# 6.How to get the dates of yesterday, today and tomorrow?"
   ]
  },
  {
   "cell_type": "code",
   "execution_count": 6,
   "metadata": {},
   "outputs": [
    {
     "name": "stdout",
     "output_type": "stream",
     "text": [
      "Today:  2020-07-26\n",
      "Yesterday:  2020-07-25\n",
      "Tomorrow:  2020-07-27\n"
     ]
    }
   ],
   "source": [
    "import numpy as np\n",
    "today = np.datetime64('today','D')\n",
    "yesterday = today - np.timedelta64(1,'D')\n",
    "tomorrow = today + np.timedelta64(1,'D')\n",
    "\n",
    "print(\"Today: \",str(today))\n",
    "print(\"Yesterday: \",str(yesterday))\n",
    "print(\"Tomorrow: \",str(tomorrow))"
   ]
  },
  {
   "cell_type": "markdown",
   "metadata": {},
   "source": [
    "# 7. Consider two random array A and B, check if they are equal"
   ]
  },
  {
   "cell_type": "code",
   "execution_count": 7,
   "metadata": {},
   "outputs": [
    {
     "name": "stdout",
     "output_type": "stream",
     "text": [
      "Checking element by element directly:\n",
      " [[False False False]\n",
      " [False False False]]\n",
      "Checking whethar arrays are same or not: False\n"
     ]
    }
   ],
   "source": [
    "import numpy as np\n",
    "\n",
    "def myfn(a1,a2) :\n",
    "    if a1.shape != a2.shape :\n",
    "        return False\n",
    "    \n",
    "    a1 = a1.flatten()\n",
    "    a2 = a2.flatten()\n",
    "    \n",
    "    for i,j in zip(a1,a2) :\n",
    "        if i != j :\n",
    "            return False\n",
    "    return True\n",
    "\n",
    "# arr1 = np.array([1,2,3,4,5,6])\n",
    "# arr2 = np.array([1,2,3,4,5,6])\n",
    "\n",
    "arr1 = np.random.random((2,3))\n",
    "arr2 = np.random.random((2,3))\n",
    "\n",
    "print(\"Checking element by element directly:\\n\",arr1 == arr2)\n",
    "\n",
    "print(\"Checking whethar arrays are same or not:\",myfn(arr1,arr2))"
   ]
  },
  {
   "cell_type": "markdown",
   "metadata": {},
   "source": [
    "# 8.Create random vector of size 10 and replace the maximum value by 0 "
   ]
  },
  {
   "cell_type": "code",
   "execution_count": 8,
   "metadata": {},
   "outputs": [
    {
     "name": "stdout",
     "output_type": "stream",
     "text": [
      "[[0.51588882 0.2539616  0.76237352]\n",
      " [0.87421728 0.88780728 0.97634292]]\n",
      "[[ 0.51588882  0.2539616   0.76237352]\n",
      " [ 0.87421728  0.88780728 -1.        ]]\n"
     ]
    }
   ],
   "source": [
    "import numpy as np\n",
    "\n",
    "arr1 = np.random.random((2,3))\n",
    "# arr1 = np.array([[1,2,3,4,5],[6,7,8,9,0],[11,12,13,14,15]])\n",
    "print(arr1)\n",
    "\n",
    "n = arr1.argmax()\n",
    "m = arr1.shape[1]\n",
    "\n",
    "arr1[n//m][n%m] = -1\n",
    "\n",
    "print(arr1)"
   ]
  },
  {
   "cell_type": "markdown",
   "metadata": {},
   "source": [
    "# 9. How to print all the values of an array?"
   ]
  },
  {
   "cell_type": "code",
   "execution_count": 9,
   "metadata": {},
   "outputs": [
    {
     "name": "stdout",
     "output_type": "stream",
     "text": [
      "[[1 2 3]\n",
      " [4 5 6]]\n"
     ]
    }
   ],
   "source": [
    "import numpy as np\n",
    "arr1 = np.array([[1,2,3],[4,5,6]])\n",
    "print(arr1)"
   ]
  },
  {
   "cell_type": "markdown",
   "metadata": {},
   "source": [
    "# 10.Subtract the mean of each row of a matrix"
   ]
  },
  {
   "cell_type": "code",
   "execution_count": 10,
   "metadata": {},
   "outputs": [
    {
     "name": "stdout",
     "output_type": "stream",
     "text": [
      "[[1 2 3]\n",
      " [4 5 6]]\n",
      "[[-1.  0.  1.]\n",
      " [-1.  0.  1.]]\n"
     ]
    }
   ],
   "source": [
    "import numpy as np\n",
    "arr1 = np.array([[1,2,3],[4,5,6]])\n",
    "print(arr1)\n",
    "\n",
    "y = arr1.mean(axis = 1,keepdims = True) # For each row, and it returns column with mean of each row\n",
    "print(arr1-y)"
   ]
  },
  {
   "cell_type": "markdown",
   "metadata": {},
   "source": [
    "# 11.Consider a given vector, how to add 1 to each element indexed by a second vector (be careful with repeated indices)? "
   ]
  },
  {
   "cell_type": "code",
   "execution_count": 11,
   "metadata": {},
   "outputs": [
    {
     "name": "stdout",
     "output_type": "stream",
     "text": [
      "Before: [ 1  2  3  4  5  6  7  8  9 10]\n",
      "After: [ 2  3  4  5  6  6  8  9 10 10]\n"
     ]
    }
   ],
   "source": [
    "import numpy as np\n",
    "\n",
    "arr1 = np.array([1,2,3,4,5,6,7,8,9,10])\n",
    "n = arr1.size\n",
    "print(\"Before:\",arr1)\n",
    "indices_list = [1,3,4,2,1,2,3,2,6,7,8,4,0]\n",
    "# To remove repeated characters use set\n",
    "indices_list = set(indices_list)\n",
    "for i in indices_list :\n",
    "    if i < n :\n",
    "        arr1[i] += 1\n",
    "print(\"After:\",arr1)"
   ]
  },
  {
   "cell_type": "markdown",
   "metadata": {},
   "source": [
    "# 12.How to get the diagonal of a dot product?"
   ]
  },
  {
   "cell_type": "code",
   "execution_count": 12,
   "metadata": {},
   "outputs": [
    {
     "name": "stdout",
     "output_type": "stream",
     "text": [
      "Dot product:\n",
      "[[30 40]\n",
      " [40 54]]\n",
      "Diagonal of Dot product: [30 54]\n"
     ]
    }
   ],
   "source": [
    "import numpy as np\n",
    "\n",
    "arr1 = [[1,2,3,4],[2,3,4,5]]\n",
    "arr2 = [[1,2],[2,3],[3,4],[4,5]]\n",
    "print(\"Dot product:\",end=\"\\n\")\n",
    "print(np.dot(arr1,arr2))\n",
    "arr3 = np.diag(np.dot(arr1,arr2))\n",
    "print(\"Diagonal of Dot product:\",arr3)"
   ]
  },
  {
   "cell_type": "markdown",
   "metadata": {},
   "source": [
    "# 13.How to find the most frequent value in an array?"
   ]
  },
  {
   "cell_type": "code",
   "execution_count": 13,
   "metadata": {},
   "outputs": [
    {
     "name": "stdout",
     "output_type": "stream",
     "text": [
      "Dictonary of values using counter: {1: 5, 2: 2, 3: 2}\n",
      "Most Frequent value: 1\n"
     ]
    }
   ],
   "source": [
    "import numpy as np\n",
    "from collections import Counter\n",
    "import sys\n",
    "\n",
    "arr1 = np.array([[1,2,3],[1,1,1],[2,3,1]])\n",
    "temp = dict(Counter(arr1.flatten()))\n",
    "print(\"Dictonary of values using counter:\",temp)\n",
    "mx = -1\n",
    "n = 0\n",
    "for i,j in temp.items() :\n",
    "    if mx < j :\n",
    "        mx = j\n",
    "        n = i\n",
    "print(\"Most Frequent value:\",n)"
   ]
  },
  {
   "cell_type": "markdown",
   "metadata": {},
   "source": [
    "# 14.How to get the n largest values of an array"
   ]
  },
  {
   "cell_type": "code",
   "execution_count": 14,
   "metadata": {},
   "outputs": [
    {
     "name": "stdout",
     "output_type": "stream",
     "text": [
      "[[[0.76291862 0.26986679 0.39175073 0.99454941 0.85797618]\n",
      "  [0.99324175 0.99629746 0.58431928 0.65068058 0.91740561]\n",
      "  [0.7178271  0.         0.72745691 0.20974101 0.68890538]\n",
      "  [0.80325743 0.05855483 0.40859295 0.5121923  0.05553267]\n",
      "  [1.         0.4462358  0.50159262 0.99335568 0.37762454]]\n",
      "\n",
      " [[0.80325743 0.05855483 0.40859295 0.5121923  0.05553267]\n",
      "  [0.7178271  0.         0.72745691 0.20974101 0.68890538]\n",
      "  [0.99324175 0.99629746 0.58431928 0.65068058 0.91740561]\n",
      "  [1.         0.4462358  0.50159262 0.99335568 0.37762454]\n",
      "  [0.76291862 0.26986679 0.39175073 0.99454941 0.85797618]]\n",
      "\n",
      " [[0.99324175 0.99629746 0.58431928 0.65068058 0.91740561]\n",
      "  [0.80325743 0.05855483 0.40859295 0.5121923  0.05553267]\n",
      "  [1.         0.4462358  0.50159262 0.99335568 0.37762454]\n",
      "  [0.76291862 0.26986679 0.39175073 0.99454941 0.85797618]\n",
      "  [0.7178271  0.         0.72745691 0.20974101 0.68890538]]]\n"
     ]
    }
   ],
   "source": [
    "import numpy as np\n",
    "arr1 = np.array([1,2,3,4,5,1,421,1,0])\n",
    "idx = (-arr).argsort()[:3] # To get first n max elements we use (-arr) else use arr\n",
    "print(arr[idx])\n",
    "# But above approach takes complexity of o(n+klog(k))\n",
    "\n",
    "# in basic python with o(n) k largest elements can be found\n",
    "# iterate and find max value and then remove that item from list and continue iteration again for k-1 times"
   ]
  },
  {
   "cell_type": "markdown",
   "metadata": {},
   "source": [
    "# 15.How to create a record array from a regular array?"
   ]
  },
  {
   "cell_type": "code",
   "execution_count": 15,
   "metadata": {},
   "outputs": [
    {
     "name": "stdout",
     "output_type": "stream",
     "text": [
      "[[1 1 2 3]\n",
      " [2 3 2 3]\n",
      " [3 2 1 4]]\n"
     ]
    }
   ],
   "source": [
    "import numpy as np\n",
    "\n",
    "arr1 = np.array([[1,1,2,3],[2,3,2,3],[3,2,1,4]])\n",
    "print(arr1)"
   ]
  },
  {
   "cell_type": "code",
   "execution_count": 16,
   "metadata": {},
   "outputs": [
    {
     "name": "stdout",
     "output_type": "stream",
     "text": [
      "[(1, 1, 2, 3) (2, 3, 2, 3) (3, 2, 1, 4)]\n"
     ]
    }
   ],
   "source": [
    "data = np.zeros(3,dtype = {'names':('a','b','c','d'),'formats':('i4','i4','i4','i4')})\n",
    "data['a'] = arr1[:,0]\n",
    "data['b'] = arr1[:,1]\n",
    "data['c'] = arr1[:,2]\n",
    "data['d'] = arr1[:,3]\n",
    "\n",
    "print(data)"
   ]
  }
 ],
 "metadata": {
  "kernelspec": {
   "display_name": "Python 3",
   "language": "python",
   "name": "python3"
  },
  "language_info": {
   "codemirror_mode": {
    "name": "ipython",
    "version": 3
   },
   "file_extension": ".py",
   "mimetype": "text/x-python",
   "name": "python",
   "nbconvert_exporter": "python",
   "pygments_lexer": "ipython3",
   "version": "3.7.4"
  }
 },
 "nbformat": 4,
 "nbformat_minor": 2
}
