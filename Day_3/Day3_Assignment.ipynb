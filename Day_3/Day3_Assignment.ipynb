{
 "cells": [
  {
   "cell_type": "markdown",
   "metadata": {},
   "source": [
    "# Question 1\n",
    "- Write a program to subtract two complex numbers in Python"
   ]
  },
  {
   "cell_type": "code",
   "execution_count": 1,
   "metadata": {},
   "outputs": [
    {
     "name": "stdout",
     "output_type": "stream",
     "text": [
      "(1+3j)\n"
     ]
    }
   ],
   "source": [
    "c1=4+5j\n",
    "c2=3+2j\n",
    "print(c1-c2)"
   ]
  },
  {
   "cell_type": "markdown",
   "metadata": {},
   "source": [
    "# Quesion 2\n",
    "- Write a program to find the fourth root of a number"
   ]
  },
  {
   "cell_type": "code",
   "execution_count": 2,
   "metadata": {},
   "outputs": [
    {
     "name": "stdout",
     "output_type": "stream",
     "text": [
      "16\n",
      "fourth root of a number = 16 is = 2.0\n"
     ]
    }
   ],
   "source": [
    "num=int(input())\n",
    "print(\"fourth root of a number =\",num,\"is =\",num**(1/4))"
   ]
  },
  {
   "cell_type": "markdown",
   "metadata": {},
   "source": [
    "# Question 3\n",
    "- Write a program to swap two numbers in Python with the help of a temporary variable"
   ]
  },
  {
   "cell_type": "code",
   "execution_count": 3,
   "metadata": {},
   "outputs": [
    {
     "name": "stdout",
     "output_type": "stream",
     "text": [
      "1\n",
      "2\n",
      "Values of a and b before swapping are 1 2\n",
      "Values of a and b after swapping are 2 1\n"
     ]
    }
   ],
   "source": [
    "a=int(input())\n",
    "b=int(input())\n",
    "print(\"Values of a and b before swapping are\",a,b)\n",
    "temp=a\n",
    "a=b\n",
    "b=temp\n",
    "print(\"Values of a and b after swapping are\",a,b)"
   ]
  },
  {
   "cell_type": "markdown",
   "metadata": {},
   "source": [
    "# Question 4\n",
    "- Write a program to swap two numbers in Python without using a temporary variable"
   ]
  },
  {
   "cell_type": "code",
   "execution_count": 4,
   "metadata": {},
   "outputs": [
    {
     "name": "stdout",
     "output_type": "stream",
     "text": [
      "1\n",
      "4\n",
      "Values of a and b before swapping are 1 4\n",
      "Values of a and b after swapping are 4 1\n"
     ]
    }
   ],
   "source": [
    "a=int(input())\n",
    "b=int(input())\n",
    "print(\"Values of a and b before swapping are\",a,b)\n",
    "a=a + b\n",
    "b=a - b\n",
    "a=a - b\n",
    "print(\"Values of a and b after swapping are\",a,b)"
   ]
  },
  {
   "cell_type": "markdown",
   "metadata": {},
   "source": [
    "# Question 5\n",
    "- Write a program to convert fahrenheit to kelvin and celsius both"
   ]
  },
  {
   "cell_type": "code",
   "execution_count": 5,
   "metadata": {},
   "outputs": [
    {
     "name": "stdout",
     "output_type": "stream",
     "text": [
      "32\n",
      "Fahrenheit = 32.0\n",
      "Celsius = 0.0\n",
      "Kelvin = 273.0\n"
     ]
    }
   ],
   "source": [
    "fahrenheit = float(input())\n",
    "celsius = (fahrenheit - 32) * 5/9\n",
    "kelvin=celsius + 273\n",
    "print(\"Fahrenheit =\",fahrenheit)\n",
    "print(\"Celsius =\",celsius)\n",
    "print(\"Kelvin =\",kelvin)"
   ]
  },
  {
   "cell_type": "markdown",
   "metadata": {},
   "source": [
    "# Question 6\n",
    "- Write a program to demonstrate all the available data types in Python. Hint: Use type() function."
   ]
  },
  {
   "cell_type": "code",
   "execution_count": 6,
   "metadata": {},
   "outputs": [
    {
     "name": "stdout",
     "output_type": "stream",
     "text": [
      "(1, 1, 1) <class 'tuple'>\n",
      "[1, 1, 1, 1] <class 'list'>\n",
      "{1: 'ONE', 2: 'TWO'} <class 'dict'>\n",
      "(1, 1, 1, 1, 1) <class 'tuple'>\n"
     ]
    }
   ],
   "source": [
    "a=1,1,1\n",
    "b=[1,1,1,1]\n",
    "c={1:\"ONE\",2:\"TWO\"}\n",
    "d=(1,1,1,1,1)\n",
    "print(a,type(a))\n",
    "print(b,type(b))\n",
    "print(c,type(c))\n",
    "print(d,type(d))"
   ]
  },
  {
   "cell_type": "markdown",
   "metadata": {},
   "source": [
    "# Question 7\n",
    "- Create a Markdown cell in jupyter and list the steps discussed in the session by Dr. Darshan\n",
    "Ingle sir to create Github profile and upload Githubs Assignment link."
   ]
  },
  {
   "cell_type": "markdown",
   "metadata": {},
   "source": [
    "# How to add assignments to github profile\n",
    "- 1. Login into github account\n",
    "- 2. Create a new Repository named LetsUpgarde_AIML and make that repository as public\n",
    "- 3. Add folder in created repository \n",
    "- 4. Open folder that need to be submitted in repository\n",
    "- 5. Copy that weblink and paste in assignment submission form provided\n",
    "- 6. And click submit in google form\n",
    "- 7. Repeat steps from 3 to 7 for submitting assignment next time "
   ]
  },
  {
   "cell_type": "code",
   "execution_count": null,
   "metadata": {},
   "outputs": [],
   "source": []
  }
 ],
 "metadata": {
  "kernelspec": {
   "display_name": "Python 3",
   "language": "python",
   "name": "python3"
  },
  "language_info": {
   "codemirror_mode": {
    "name": "ipython",
    "version": 3
   },
   "file_extension": ".py",
   "mimetype": "text/x-python",
   "name": "python",
   "nbconvert_exporter": "python",
   "pygments_lexer": "ipython3",
   "version": "3.7.4"
  }
 },
 "nbformat": 4,
 "nbformat_minor": 2
}
