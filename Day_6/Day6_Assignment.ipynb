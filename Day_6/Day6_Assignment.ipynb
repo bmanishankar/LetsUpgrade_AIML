{
 "cells": [
  {
   "cell_type": "markdown",
   "metadata": {},
   "source": [
    "# Question1 \n",
    "- Assuming that we have some email addresses in the \"username@companyname.com\" format, please write program\n",
    "to print the company name of a given email address. Both user names and company names are composed of letters\n",
    "only.\n",
    "- Input Format:\n",
    "- The first line of the input contains an email address.\n",
    "- Output Format:\n",
    "Print the company name in single line.\n",
    "- Example;\n",
    "Input:\n",
    "john@google.com\n",
    "Output:\n",
    "google"
   ]
  },
  {
   "cell_type": "code",
   "execution_count": 1,
   "metadata": {},
   "outputs": [
    {
     "name": "stdout",
     "output_type": "stream",
     "text": [
      "Enter e-Mail id : mani@sankar.com\n",
      "sankar\n"
     ]
    }
   ],
   "source": [
    "email=input(\"Enter e-Mail id : \")\n",
    "lst=email.split(\"@\")\n",
    "lst=lst[1].split(\".\")\n",
    "print(lst[0])"
   ]
  },
  {
   "cell_type": "markdown",
   "metadata": {},
   "source": [
    "# Question 2\n",
    "- Write a program that accepts a comma-separated sequence of words as input and prints the words in a comma\n",
    "separated sequence after sorting them alphabetically.\n",
    "- Input Format:\n",
    "The first line of input contains words separated by the comma.\n",
    "- Output Format:\n",
    "Print the sorted words separated by the comma.\n",
    "- Example:\n",
    "- Input:\n",
    "without,hello,bag,world\n",
    "- Output:\n",
    "bag,hello,without,world"
   ]
  },
  {
   "cell_type": "code",
   "execution_count": 2,
   "metadata": {},
   "outputs": [
    {
     "name": "stdout",
     "output_type": "stream",
     "text": [
      "Enter comma seperated words : a,v,x,s,d,z,w,q,b,c\n",
      "a,b,c,d,q,s,v,w,x,z,"
     ]
    }
   ],
   "source": [
    "words=input(\"Enter comma seperated words : \")\n",
    "lst=words.split(\",\")\n",
    "lst.sort()\n",
    "for word in lst:\n",
    "    print(word,end=\",\")"
   ]
  },
  {
   "cell_type": "markdown",
   "metadata": {},
   "source": [
    "# Question 3\n",
    "- Create your own Jupyter Notebook for Sets.\n",
    "- Reference link: https://www.w3schools.com/python/python_sets.asp"
   ]
  },
  {
   "cell_type": "code",
   "execution_count": 3,
   "metadata": {},
   "outputs": [
    {
     "name": "stdout",
     "output_type": "stream",
     "text": [
      "{1, 2, 3, 4}\n",
      "{1, 2, 5, 6, 7, 8, 9}\n",
      "{1, 2, 3, 4, 7}\n",
      "1\n",
      "{1, 2, 3, 4, 5, 6, 7, 8, 9}\n",
      "{2, 7}\n",
      "None\n",
      "{1, 2, 3, 4, 7, 11, 12, 31}\n"
     ]
    }
   ],
   "source": [
    "st1={1,2,3,4,1,2,1,1,1,3,4}\n",
    "st2={1,2,5,8,7,6,5,5,5,6,7,8,7,8,9,6}\n",
    "print(st1)\n",
    "print(st2)\n",
    "st1.add(7)\n",
    "print(st1)\n",
    "print(st1.pop())\n",
    "print(st1.union(st2))\n",
    "print(st1.intersection(st2))\n",
    "st3={11,12,1,31}\n",
    "print(st1.update(st3))\n",
    "print(st1)"
   ]
  },
  {
   "cell_type": "markdown",
   "metadata": {},
   "source": [
    "# Question 4\n",
    "- Given a list of n-1 numbers ranging from 1 to n, your task is to find the missing number. There are no duplicates.\n",
    "- Input Format:\n",
    "The first line contains n-1 numbers with each number separated by a space.\n",
    "- Output Format:\n",
    "Print the missing number\n",
    "- Example:\n",
    "- Input:1 2 4 6 3 7 8\n",
    "- Output:5\n",
    "- Explanation:\n",
    "In the above list of numbers 5 is missing and hence 5 is the input"
   ]
  },
  {
   "cell_type": "code",
   "execution_count": 4,
   "metadata": {},
   "outputs": [
    {
     "name": "stdout",
     "output_type": "stream",
     "text": [
      "Enter numbers seperated by space : 2 4 3 5 1 8 7\n",
      "Missing number is : 6\n"
     ]
    }
   ],
   "source": [
    "lst=input(\"Enter numbers seperated by space : \").split(\" \")\n",
    "n=len(lst)\n",
    "for i in range(0,n):\n",
    "    lst[i]=int(lst[i])\n",
    "n=n+1\n",
    "for i in range(1,n+1):\n",
    "    if i in lst :\n",
    "        continue\n",
    "    else:\n",
    "        print(\"Missing number is :\",i)    "
   ]
  },
  {
   "cell_type": "markdown",
   "metadata": {},
   "source": [
    "# Question 5\n",
    "- With a given list L, write a program to print this list L after removing all duplicate values with original order reserved.\n",
    "- Example:\n",
    "- If the input list is \n",
    "12 24 35 24 88 120 155 88 120 155\n",
    "- Then the output should be \n",
    "12 24 35 88 120 155\n",
    "- Explanation:\n",
    "Third, seventh and ninth element of the list L has been removed because it was already present.\n",
    "- Input Format:\n",
    "In one line take the elements of the list L with each element separated by a space.\n",
    "- Output Format:\n",
    "Print the elements of the modified list in one line with each element separated by a space.\n",
    "- Example:\n",
    "- Input: 12 24 35 24\n",
    "- Output:\n",
    "12 24 35"
   ]
  },
  {
   "cell_type": "code",
   "execution_count": 5,
   "metadata": {},
   "outputs": [
    {
     "name": "stdout",
     "output_type": "stream",
     "text": [
      "12 24 35 24 88 120 155 88 120 155\n",
      "[12, 24, 35, 88, 120, 155]\n"
     ]
    }
   ],
   "source": [
    "lst=set(input().split(\" \"))\n",
    "lst=list(lst)\n",
    "for i in range(len(lst)) :\n",
    "    lst[i]=int(lst[i])\n",
    "lst.sort()\n",
    "print(lst)"
   ]
  }
 ],
 "metadata": {
  "kernelspec": {
   "display_name": "Python 3",
   "language": "python",
   "name": "python3"
  },
  "language_info": {
   "codemirror_mode": {
    "name": "ipython",
    "version": 3
   },
   "file_extension": ".py",
   "mimetype": "text/x-python",
   "name": "python",
   "nbconvert_exporter": "python",
   "pygments_lexer": "ipython3",
   "version": "3.7.4"
  }
 },
 "nbformat": 4,
 "nbformat_minor": 2
}
